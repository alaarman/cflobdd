{
 "cells": [
  {
   "cell_type": "code",
   "execution_count": 52,
   "metadata": {},
   "outputs": [],
   "source": [
    "import quimb.tensor as qtn\n",
    "import quimb as qu\n",
    "import numpy as np\n",
    "import math\n",
    "import random"
   ]
  },
  {
   "cell_type": "code",
   "execution_count": 53,
   "metadata": {},
   "outputs": [
    {
     "name": "stdout",
     "output_type": "stream",
     "text": [
      "1110111011101101\n"
     ]
    }
   ],
   "source": [
    "N = 16\n",
    "s = \"\"\n",
    "for i in range(0, N):\n",
    "    r = random.randint(0, 1)\n",
    "    if r == 0:\n",
    "        s = s + \"0\"\n",
    "    else:\n",
    "        s = s + \"1\"\n",
    "print(s)\n",
    "compress = True\n",
    "def check_bit_in_s(s, i, k):\n",
    "    return (s[k] == i)"
   ]
  },
  {
   "cell_type": "code",
   "execution_count": 54,
   "metadata": {},
   "outputs": [],
   "source": [
    "# Mean operator\n",
    "\n",
    "t0 = np.zeros((2,2,2))\n",
    "t0[0][0][0] = 1\n",
    "t0[1][1][1] = 1\n",
    "\n",
    "t_datas = [t0]\n",
    "\n",
    "for i in range(1, N-1):\n",
    "    t_k = np.zeros((2,2,2,2))\n",
    "    t_k[0][0][0][0] = 1\n",
    "    t_k[0][1][1][1] = 1\n",
    "    t_k[1][0][0][1] = 1\n",
    "    t_k[1][1][1][1] = 1\n",
    "    t_datas.append(t_k)\n",
    "\n",
    "tn = np.zeros((2,2,2))\n",
    "tn[0][0][0] = 1\n",
    "tn[0][1][1] = -1\n",
    "tn[1][0][0] = -1\n",
    "tn[1][1][1] = -1\n",
    "\n",
    "t_datas.append(tn)\n",
    "\n",
    "tensors = []\n",
    "\n",
    "tensor_0 = qtn.Tensor(data=t0, inds=[\"i_0\", \"j_0\",\"0\"], tags=(\"I_0\"))\n",
    "tensors.append(tensor_0)\n",
    "\n",
    "for i in range(1, N-1):\n",
    "    tensors.append(qtn.Tensor(data=t_datas[i], inds=[\"{}\".format(i-1), \"i_{}\".format(i), \"j_{}\".format(i), \"{}\".format(i)], tags=(\"I_{}\".format(i))))\n",
    "\n",
    "tensor_n = qtn.Tensor(data=tn, inds=[\"{}\".format(N-2), \"i_{}\".format(N-1), \"j_{}\".format(N-1)], tags=(\"I_{}\".format(N-1)))\n",
    "tensors.append(tensor_n)\n",
    "tn = qtn.TensorNetwork(tensors)\n",
    "# tn.draw(show_inds='all', show_tags = True)"
   ]
  },
  {
   "cell_type": "code",
   "execution_count": 55,
   "metadata": {},
   "outputs": [],
   "source": [
    "mean_mpo = qtn.MatrixProductOperator.from_TN(tn,\n",
    "site_tag_id='I_{}',\n",
    "    upper_ind_id='j_{}',\n",
    "    lower_ind_id='i_{}',\n",
    "    cyclic=False,\n",
    "    L=N)"
   ]
  },
  {
   "cell_type": "code",
   "execution_count": 56,
   "metadata": {},
   "outputs": [],
   "source": [
    "hadamard_matrix = np.array([[1,1],[1,-1]]) * 1/np.sqrt(2)\n",
    "hadamard_tensors = []\n",
    "for m in range(0, N):\n",
    "    hadamard_tensors.append(qtn.Tensor(data=hadamard_matrix, inds=[\"hi_{}\".format(m), \"hj_{}\".format(m)], tags=(\"I_{}\".format(m))))\n",
    "\n",
    "hadamard_tn = qtn.TensorNetwork(hadamard_tensors)\n",
    "\n",
    "hadamard_mpo = qtn.MatrixProductOperator.from_TN(hadamard_tn,\n",
    "site_tag_id='I_{}',\n",
    "    upper_ind_id='hj_{}',\n",
    "    lower_ind_id='hi_{}',\n",
    "    cyclic=False,\n",
    "    L=N)"
   ]
  },
  {
   "cell_type": "code",
   "execution_count": 57,
   "metadata": {},
   "outputs": [],
   "source": [
    "diffusion_mpo = mean_mpo.apply(hadamard_mpo, compress=compress)\n",
    "diffusion_mpo = hadamard_mpo.apply(diffusion_mpo, compress=compress)"
   ]
  },
  {
   "cell_type": "code",
   "execution_count": 58,
   "metadata": {},
   "outputs": [],
   "source": [
    "# Oracle\n",
    "\n",
    "to0 = np.zeros((2,2,2))\n",
    "to0[0][0][0] = check_bit_in_s(s, '0', 0)\n",
    "to0[1][1][0] = check_bit_in_s(s, '1', 0)\n",
    "to0[1][1][1] = (1 - check_bit_in_s(s, '1', 0))\n",
    "to0[0][0][1] = (1 - check_bit_in_s(s, '0', 0))\n",
    "\n",
    "to_datas = [to0]\n",
    "\n",
    "for i in range(1, N-1):\n",
    "    t_k = np.zeros((2,2,2,2))\n",
    "    t_k[0][0][0][0] = check_bit_in_s(s, '0', i)\n",
    "    t_k[0][0][0][1] = (1 - check_bit_in_s(s, '0', i))\n",
    "    t_k[0][1][1][0] = check_bit_in_s(s, '1', i)\n",
    "    t_k[0][1][1][1] = (1 - check_bit_in_s(s, '1', i))\n",
    "    t_k[1][0][0][1] = 1\n",
    "    t_k[1][1][1][1] = 1\n",
    "    to_datas.append(t_k)\n",
    "\n",
    "ton = np.zeros((2,2,2))\n",
    "ton[0][0][0] = (-1 * check_bit_in_s(s, '0', N-1) + (1 - check_bit_in_s(s, '0', N-1)))\n",
    "ton[0][1][1] = (-1 * check_bit_in_s(s, '1', N-1) + (1 - check_bit_in_s(s, '1', N-1)))\n",
    "ton[1][0][0] = 1\n",
    "ton[1][1][1] = 1\n",
    "\n",
    "to_datas.append(ton)\n",
    "\n",
    "oracle_tensors = []\n",
    "\n",
    "oracle_tensor_0 = qtn.Tensor(data=to0, inds=[\"oi_0\", \"oj_0\",\"0\"], tags=(\"I_0\"))\n",
    "oracle_tensors.append(oracle_tensor_0)\n",
    "\n",
    "for i in range(1, N-1):\n",
    "    oracle_tensors.append(qtn.Tensor(data=to_datas[i], inds=[\"{}\".format(i-1), \"oi_{}\".format(i), \"oj_{}\".format(i), \"{}\".format(i)], tags=(\"I_{}\".format(i))))\n",
    "\n",
    "oracle_tensor_n = qtn.Tensor(data=ton, inds=[\"{}\".format(N-2), \"oi_{}\".format(N-1), \"oj_{}\".format(N-1)], tags=(\"I_{}\".format(N-1)))\n",
    "oracle_tensors.append(oracle_tensor_n)\n",
    "oracle_tn = qtn.TensorNetwork(oracle_tensors)\n",
    "# oracle_tn.draw(show_inds='all', show_tags = True)"
   ]
  },
  {
   "cell_type": "code",
   "execution_count": 59,
   "metadata": {},
   "outputs": [],
   "source": [
    "oracle_mpo = qtn.MatrixProductOperator.from_TN(oracle_tn,\n",
    "site_tag_id='I_{}',\n",
    "    upper_ind_id='oj_{}',\n",
    "    lower_ind_id='oi_{}',\n",
    "    cyclic=False,\n",
    "    L=N)"
   ]
  },
  {
   "cell_type": "code",
   "execution_count": 60,
   "metadata": {},
   "outputs": [],
   "source": [
    "operator_mpo = diffusion_mpo.apply(oracle_mpo, compress=compress)"
   ]
  },
  {
   "cell_type": "code",
   "execution_count": 61,
   "metadata": {},
   "outputs": [],
   "source": [
    "iters = math.ceil((math.pi * np.sqrt((2 ** N)))/4)"
   ]
  },
  {
   "cell_type": "code",
   "execution_count": 62,
   "metadata": {},
   "outputs": [],
   "source": [
    "# Init State after first hadamard\n",
    "\n",
    "init_t0 = np.array([1, 1]) * 1/np.sqrt(2)\n",
    "\n",
    "init_tensors = []\n",
    "\n",
    "for i in range(0, N):\n",
    "    init_tensors.append(qtn.Tensor(data=init_t0, inds=[\"ii_{}\".format(i)], tags=(\"I_{}\".format(i))))\n",
    "\n",
    "init_tn = qtn.TensorNetwork(init_tensors)\n",
    "# init_tn.draw(show_inds='all', show_tags = True)\n",
    "\n",
    "init_mps = qtn.MatrixProductState.from_TN(init_tn,\n",
    "site_ind_id='ii_{}',\n",
    "site_tag_id='I_{}',\n",
    "    cyclic=False,\n",
    "    L=N)"
   ]
  },
  {
   "cell_type": "code",
   "execution_count": 63,
   "metadata": {},
   "outputs": [],
   "source": [
    "def multiply_operator(hash_map, iters, oper):\n",
    "    # print(iters, iters in hash_map)\n",
    "    if iters in hash_map:\n",
    "        return hash_map[iters]\n",
    "    if iters == 1:\n",
    "        hash_map[iters] = oper\n",
    "        return oper\n",
    "    if iters == 2:\n",
    "        oper = oper.apply(oper, compress=compress)\n",
    "        hash_map[iters] = oper\n",
    "        return oper\n",
    "    op1 = multiply_operator(hash_map, iters//2, oper)\n",
    "    op2 = multiply_operator(hash_map, iters - iters//2, oper)\n",
    "\n",
    "    op = op1.apply(op2, compress=compress)\n",
    "    hash_map[iters] = op\n",
    "    return op"
   ]
  },
  {
   "cell_type": "code",
   "execution_count": 64,
   "metadata": {},
   "outputs": [],
   "source": [
    "hash_map = {}\n",
    "final_operator_mpo = multiply_operator(hash_map, iters, operator_mpo)\n",
    "\n",
    "final_mps = final_operator_mpo.apply(init_mps, compress=compress)\n",
    "# final_mps = final_mps * 1/np.sqrt(2)\n"
   ]
  },
  {
   "cell_type": "code",
   "execution_count": 65,
   "metadata": {},
   "outputs": [
    {
     "ename": "ValueError",
     "evalue": "probabilities do not sum to 1",
     "output_type": "error",
     "traceback": [
      "\u001b[0;31m---------------------------------------------------------------------------\u001b[0m",
      "\u001b[0;31mValueError\u001b[0m                                Traceback (most recent call last)",
      "Cell \u001b[0;32mIn[65], line 1\u001b[0m\n\u001b[0;32m----> 1\u001b[0m \u001b[43mfinal_mps\u001b[49m\u001b[38;5;241;43m.\u001b[39;49m\u001b[43mmeasure\u001b[49m\u001b[43m(\u001b[49m\u001b[38;5;241;43m15\u001b[39;49m\u001b[43m)\u001b[49m\n",
      "File \u001b[0;32m~/Library/Python/3.9/lib/python/site-packages/quimb/tensor/tensor_1d.py:2546\u001b[0m, in \u001b[0;36mMatrixProductState.measure\u001b[0;34m(self, site, remove, outcome, renorm, cur_orthog, get, inplace)\u001b[0m\n\u001b[1;32m   2542\u001b[0m p \u001b[39m=\u001b[39m do(\u001b[39m'\u001b[39m\u001b[39mreal\u001b[39m\u001b[39m'\u001b[39m, tii\u001b[39m.\u001b[39mdata)\n\u001b[1;32m   2544\u001b[0m \u001b[39mif\u001b[39;00m outcome \u001b[39mis\u001b[39;00m \u001b[39mNone\u001b[39;00m:\n\u001b[1;32m   2545\u001b[0m     \u001b[39m# sample an outcome\u001b[39;00m\n\u001b[0;32m-> 2546\u001b[0m     outcome \u001b[39m=\u001b[39m do(\u001b[39m'\u001b[39;49m\u001b[39mrandom.choice\u001b[39;49m\u001b[39m'\u001b[39;49m, do(\u001b[39m'\u001b[39;49m\u001b[39marange\u001b[39;49m\u001b[39m'\u001b[39;49m, d, like\u001b[39m=\u001b[39;49mp), p\u001b[39m=\u001b[39;49mp)\n\u001b[1;32m   2548\u001b[0m \u001b[39mif\u001b[39;00m get \u001b[39m==\u001b[39m \u001b[39m'\u001b[39m\u001b[39moutcome\u001b[39m\u001b[39m'\u001b[39m:\n\u001b[1;32m   2549\u001b[0m     \u001b[39mreturn\u001b[39;00m outcome\n",
      "File \u001b[0;32m~/Library/Python/3.9/lib/python/site-packages/autoray/autoray.py:80\u001b[0m, in \u001b[0;36mdo\u001b[0;34m(fn, like, *args, **kwargs)\u001b[0m\n\u001b[1;32m     31\u001b[0m \u001b[39m\u001b[39m\u001b[39m\"\"\"Do function named ``fn`` on ``(*args, **kwargs)``, peforming single\u001b[39;00m\n\u001b[1;32m     32\u001b[0m \u001b[39mdispatch to retrieve ``fn`` based on whichever library defines the class of\u001b[39;00m\n\u001b[1;32m     33\u001b[0m \u001b[39mthe ``args[0]``, or the ``like`` keyword argument if specified.\u001b[39;00m\n\u001b[0;32m   (...)\u001b[0m\n\u001b[1;32m     77\u001b[0m \u001b[39m    <tf.Tensor: id=91, shape=(3, 3), dtype=float32>\u001b[39;00m\n\u001b[1;32m     78\u001b[0m \u001b[39m\"\"\"\u001b[39;00m\n\u001b[1;32m     79\u001b[0m backend \u001b[39m=\u001b[39m choose_backend(fn, \u001b[39m*\u001b[39margs, like\u001b[39m=\u001b[39mlike, \u001b[39m*\u001b[39m\u001b[39m*\u001b[39mkwargs)\n\u001b[0;32m---> 80\u001b[0m \u001b[39mreturn\u001b[39;00m get_lib_fn(backend, fn)(\u001b[39m*\u001b[39;49margs, \u001b[39m*\u001b[39;49m\u001b[39m*\u001b[39;49mkwargs)\n",
      "File \u001b[0;32mmtrand.pyx:958\u001b[0m, in \u001b[0;36mnumpy.random.mtrand.RandomState.choice\u001b[0;34m()\u001b[0m\n",
      "\u001b[0;31mValueError\u001b[0m: probabilities do not sum to 1"
     ]
    }
   ],
   "source": [
    "final_mps.measure(15)"
   ]
  },
  {
   "cell_type": "code",
   "execution_count": null,
   "metadata": {},
   "outputs": [],
   "source": [
    "circ = qtn.Circuit(psi0=final_mps)"
   ]
  },
  {
   "cell_type": "code",
   "execution_count": null,
   "metadata": {},
   "outputs": [
    {
     "name": "stdout",
     "output_type": "stream",
     "text": [
      "1011011101000101111\n",
      "False 1011011101000101111 \n"
     ]
    }
   ],
   "source": [
    "sampled_s = \"\"\n",
    "is_correct = False\n",
    "print(s)\n",
    "for b in circ.sample(100):\n",
    "    if b == s:\n",
    "        sampled_s = b\n",
    "        is_correct = True\n",
    "        break\n",
    "print(is_correct, s, sampled_s)"
   ]
  },
  {
   "cell_type": "code",
   "execution_count": null,
   "metadata": {},
   "outputs": [],
   "source": [
    "\n",
    "\n",
    "# is_correct = False\n",
    "# sampled_s = \"\"\n",
    "# for i in range(0,10):\n",
    "#     index = np.random.choice(len(result), p=result)\n",
    "#     index_s = bin(index)[2:].zfill(N)\n",
    "#     # print(index_s)\n",
    "#     if index_s == s:\n",
    "#         is_correct = True \n",
    "#         sampled_s = index_s\n",
    "#         break\n",
    "\n",
    "# print(is_correct, s, sampled_s)"
   ]
  }
 ],
 "metadata": {
  "kernelspec": {
   "display_name": "Python (tensor)",
   "language": "python",
   "name": "tensor"
  },
  "language_info": {
   "codemirror_mode": {
    "name": "ipython",
    "version": 3
   },
   "file_extension": ".py",
   "mimetype": "text/x-python",
   "name": "python",
   "nbconvert_exporter": "python",
   "pygments_lexer": "ipython3",
   "version": "3.9.6"
  },
  "orig_nbformat": 4,
  "vscode": {
   "interpreter": {
    "hash": "ba71e2a86df84388ebf1fffbfd413d60157924c3f879e3aaaab499c14e81ea7a"
   }
  }
 },
 "nbformat": 4,
 "nbformat_minor": 2
}
