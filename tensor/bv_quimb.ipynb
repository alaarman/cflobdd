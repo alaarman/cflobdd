{
 "cells": [
  {
   "cell_type": "code",
   "execution_count": 150,
   "metadata": {},
   "outputs": [],
   "source": [
    "import quimb.tensor as qtn\n",
    "import quimb as qu\n",
    "import numpy as np\n",
    "import math\n",
    "import random"
   ]
  },
  {
   "cell_type": "code",
   "execution_count": 151,
   "metadata": {},
   "outputs": [
    {
     "name": "stdout",
     "output_type": "stream",
     "text": [
      "1101010001111011100100100111010110001001110000010001110011111000\n"
     ]
    }
   ],
   "source": [
    "N = 64\n",
    "s = \"\"\n",
    "for i in range(0, N):\n",
    "    r = random.randint(0, 1)\n",
    "    if r == 0:\n",
    "        s = s + \"0\"\n",
    "    else:\n",
    "        s = s + \"1\"\n",
    "print(s)\n",
    "compress = False\n",
    "def check_bit_in_s(s, i, k):\n",
    "    return (s[k] == i)"
   ]
  },
  {
   "cell_type": "code",
   "execution_count": 152,
   "metadata": {},
   "outputs": [],
   "source": [
    "hadamard_matrix = np.array([[1,1],[1,-1]]) * 1/np.sqrt(2)\n",
    "hadamard_tensors = []\n",
    "for m in range(0, N+1):\n",
    "    hadamard_tensors.append(qtn.Tensor(data=hadamard_matrix, inds=[\"hi_{}\".format(m), \"hj_{}\".format(m)], tags=(\"I_{}\".format(m))))\n",
    "\n",
    "hadamard_tn = qtn.TensorNetwork(hadamard_tensors)\n",
    "\n",
    "hadamard_mpo = qtn.MatrixProductOperator.from_TN(hadamard_tn,\n",
    "site_tag_id='I_{}',\n",
    "    upper_ind_id='hj_{}',\n",
    "    lower_ind_id='hi_{}',\n",
    "    cyclic=False,\n",
    "    L=N+1)"
   ]
  },
  {
   "cell_type": "code",
   "execution_count": 153,
   "metadata": {},
   "outputs": [],
   "source": [
    "# Oracle\n",
    "\n",
    "to0 = np.zeros((2,2,2))\n",
    "to0[0][0][0] = 1\n",
    "to0[1][1][0] = (1 - check_bit_in_s(s, '1', 0))\n",
    "to0[1][1][1] = check_bit_in_s(s, '1', 0)\n",
    "\n",
    "to_datas = [to0]\n",
    "\n",
    "for i in range(1, N):\n",
    "    t_k = np.zeros((2,2,2,2))\n",
    "    t_k[0][0][0][0] = 1\n",
    "    t_k[0][1][1][0] = (1 - check_bit_in_s(s, '1', i))\n",
    "    t_k[0][1][1][1] = check_bit_in_s(s, '1', i)\n",
    "    t_k[1][0][0][1] = 1\n",
    "    t_k[1][1][1][0] = check_bit_in_s(s, '1', i)\n",
    "    t_k[1][1][1][1] = (1 - check_bit_in_s(s, '1', i))\n",
    "    to_datas.append(t_k)\n",
    "\n",
    "ton = np.zeros((2,2,2))\n",
    "ton[0][0][0] = 1\n",
    "ton[0][1][1] = 1\n",
    "ton[1][0][1] = 1\n",
    "ton[1][1][0] = 1\n",
    "\n",
    "to_datas.append(ton)\n",
    "\n",
    "oracle_tensors = []\n",
    "\n",
    "oracle_tensor_0 = qtn.Tensor(data=to0, inds=[\"oi_0\", \"oj_0\",\"0\"], tags=(\"I_0\"))\n",
    "oracle_tensors.append(oracle_tensor_0)\n",
    "\n",
    "for i in range(1, N):\n",
    "    oracle_tensors.append(qtn.Tensor(data=to_datas[i], inds=[\"{}\".format(i-1), \"oi_{}\".format(i), \"oj_{}\".format(i), \"{}\".format(i)], tags=(\"I_{}\".format(i))))\n",
    "\n",
    "oracle_tensor_n = qtn.Tensor(data=ton, inds=[\"{}\".format(N-1), \"oi_{}\".format(N), \"oj_{}\".format(N)], tags=(\"I_{}\".format(N)))\n",
    "oracle_tensors.append(oracle_tensor_n)\n",
    "oracle_tn = qtn.TensorNetwork(oracle_tensors)\n",
    "# oracle_tn.draw(show_inds='all', show_tags = True)"
   ]
  },
  {
   "cell_type": "code",
   "execution_count": 154,
   "metadata": {},
   "outputs": [],
   "source": [
    "oracle_mpo = qtn.MatrixProductOperator.from_TN(oracle_tn,\n",
    "site_tag_id='I_{}',\n",
    "    upper_ind_id='oj_{}',\n",
    "    lower_ind_id='oi_{}',\n",
    "    cyclic=False,\n",
    "    L=N+1)"
   ]
  },
  {
   "cell_type": "code",
   "execution_count": 155,
   "metadata": {},
   "outputs": [],
   "source": [
    "# Init State\n",
    "\n",
    "init_t0 = np.array([1, 0])\n",
    "\n",
    "init_tensors = []\n",
    "\n",
    "for i in range(0, N+1):\n",
    "    init_tensors.append(qtn.Tensor(data=init_t0, inds=[\"ii_{}\".format(i)], tags=(\"I_{}\".format(i))))\n",
    "\n",
    "init_tn = qtn.TensorNetwork(init_tensors)\n",
    "# init_tn.draw(show_inds='all', show_tags = True)\n",
    "\n",
    "init_mps = qtn.MatrixProductState.from_TN(init_tn,\n",
    "site_ind_id='ii_{}',\n",
    "site_tag_id='I_{}',\n",
    "    cyclic=False,\n",
    "    L=N+1)"
   ]
  },
  {
   "cell_type": "code",
   "execution_count": 156,
   "metadata": {},
   "outputs": [],
   "source": [
    "x_matrix = np.zeros((2, 2))\n",
    "x_matrix[0][1] = 1\n",
    "x_matrix[1][0] = 1\n",
    "id_matrix = np.zeros((2, 2))\n",
    "id_matrix[0][0] = 1\n",
    "id_matrix[1][1] = 1\n",
    "x_tensors = [qtn.Tensor(data=id_matrix, inds=[\"xi_{}\".format(i), \"xj_{}\".format(i)], tags=(\"I_{}\".format(i))) for i in range(0, N)]\n",
    "x_tensors.append(qtn.Tensor(data=x_matrix, inds=[\"xi_{}\".format(N), \"xj_{}\".format(N)], tags=(\"I_{}\".format(N))))\n",
    "x_tn = qtn.TensorNetwork(x_tensors)\n",
    "x_mpo = qtn.MatrixProductOperator.from_TN(x_tn,\n",
    "site_tag_id='I_{}',\n",
    "    upper_ind_id='xj_{}',\n",
    "    lower_ind_id='xi_{}',\n",
    "    cyclic=False,\n",
    "    L=N+1)"
   ]
  },
  {
   "cell_type": "code",
   "execution_count": 157,
   "metadata": {},
   "outputs": [],
   "source": [
    "out = x_mpo.apply(init_mps, compress=compress)\n",
    "out = hadamard_mpo.apply(out, compress=compress)\n",
    "out = oracle_mpo.apply(out, compress=compress)\n",
    "out = hadamard_mpo.apply(out, compress=compress)\n"
   ]
  },
  {
   "cell_type": "code",
   "execution_count": 158,
   "metadata": {},
   "outputs": [],
   "source": [
    "circ = qtn.Circuit(psi0=out)"
   ]
  },
  {
   "cell_type": "code",
   "execution_count": 159,
   "metadata": {},
   "outputs": [
    {
     "name": "stdout",
     "output_type": "stream",
     "text": [
      "1101010001111011100100100111010110001001110000010001110011111000\n",
      "1101010001111011100100100111010110001001110000010001110011111000\n",
      "True 1101010001111011100100100111010110001001110000010001110011111000 1101010001111011100100100111010110001001110000010001110011111000\n"
     ]
    }
   ],
   "source": [
    "sampled_s = \"\"\n",
    "is_correct = False\n",
    "print(s)\n",
    "for b in circ.sample(100):\n",
    "    print(b[:-1])\n",
    "    if b[:-1] == s:\n",
    "        sampled_s = b[:-1]\n",
    "        is_correct = True\n",
    "        break\n",
    "print(is_correct, s, sampled_s)"
   ]
  },
  {
   "cell_type": "code",
   "execution_count": 160,
   "metadata": {},
   "outputs": [],
   "source": [
    "\n",
    "\n",
    "# is_correct = False\n",
    "# sampled_s = \"\"\n",
    "# for i in range(0,10):\n",
    "#     index = np.random.choice(len(result), p=result)\n",
    "#     index_s = bin(index)[2:].zfill(N)\n",
    "#     # print(index_s)\n",
    "#     if index_s == s:\n",
    "#         is_correct = True \n",
    "#         sampled_s = index_s\n",
    "#         break\n",
    "\n",
    "# print(is_correct, s, sampled_s)"
   ]
  }
 ],
 "metadata": {
  "kernelspec": {
   "display_name": "Python (tensor)",
   "language": "python",
   "name": "tensor"
  },
  "language_info": {
   "codemirror_mode": {
    "name": "ipython",
    "version": 3
   },
   "file_extension": ".py",
   "mimetype": "text/x-python",
   "name": "python",
   "nbconvert_exporter": "python",
   "pygments_lexer": "ipython3",
   "version": "3.9.6"
  },
  "orig_nbformat": 4,
  "vscode": {
   "interpreter": {
    "hash": "ba71e2a86df84388ebf1fffbfd413d60157924c3f879e3aaaab499c14e81ea7a"
   }
  }
 },
 "nbformat": 4,
 "nbformat_minor": 2
}
