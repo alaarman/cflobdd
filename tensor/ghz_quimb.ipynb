{
 "cells": [
  {
   "cell_type": "code",
   "execution_count": 94,
   "metadata": {},
   "outputs": [],
   "source": [
    "import quimb.tensor as qtn\n",
    "import quimb as qu\n",
    "import numpy as np\n",
    "import math\n",
    "import random"
   ]
  },
  {
   "cell_type": "code",
   "execution_count": 95,
   "metadata": {},
   "outputs": [],
   "source": [
    "N = 64\n",
    "allZeros = \"\"\n",
    "allOnes = \"\"\n",
    "for i in range(0, N):\n",
    "    allZeros += \"0\"\n",
    "    allOnes += \"1\"\n",
    "compress = False"
   ]
  },
  {
   "cell_type": "code",
   "execution_count": 96,
   "metadata": {},
   "outputs": [],
   "source": [
    "hadamard_matrix = np.array([[1,1],[1,-1]]) * 1/np.sqrt(2)\n",
    "hadamard_tensors = []\n",
    "for m in range(0, N):\n",
    "    hadamard_tensors.append(qtn.Tensor(data=hadamard_matrix, inds=[\"hi_{}\".format(m), \"hj_{}\".format(m)], tags=(\"I_{}\".format(m))))\n",
    "\n",
    "hadamard_tn = qtn.TensorNetwork(hadamard_tensors)\n",
    "\n",
    "hadamard_mpo = qtn.MatrixProductOperator.from_TN(hadamard_tn,\n",
    "site_tag_id='I_{}',\n",
    "    upper_ind_id='hj_{}',\n",
    "    lower_ind_id='hi_{}',\n",
    "    cyclic=False,\n",
    "    L=N)"
   ]
  },
  {
   "cell_type": "code",
   "execution_count": 97,
   "metadata": {},
   "outputs": [],
   "source": [
    "# Oracle\n",
    "\n",
    "to0 = np.zeros((2,2,2))\n",
    "to0[0][0][0] = 1\n",
    "to0[1][1][1] = 1\n",
    "\n",
    "to_datas = [to0]\n",
    "\n",
    "for i in range(1, N-1):\n",
    "    t_k = np.zeros((2,2,2,2))\n",
    "    t_k[0][0][0][0] = 1\n",
    "    t_k[0][1][1][1] = 1\n",
    "    t_k[1][0][0][1] = 1\n",
    "    t_k[1][1][1][0] = 1\n",
    "    to_datas.append(t_k)\n",
    "\n",
    "ton = np.zeros((2,2,2))\n",
    "ton[0][0][0] = 1\n",
    "ton[0][1][1] = 1\n",
    "ton[1][0][1] = 1\n",
    "ton[1][1][0] = 1\n",
    "\n",
    "to_datas.append(ton)\n",
    "\n",
    "oracle_tensors = []\n",
    "\n",
    "oracle_tensor_0 = qtn.Tensor(data=to0, inds=[\"oi_0\", \"oj_0\",\"0\"], tags=(\"I_0\"))\n",
    "oracle_tensors.append(oracle_tensor_0)\n",
    "\n",
    "for i in range(1, N-1):\n",
    "    oracle_tensors.append(qtn.Tensor(data=to_datas[i], inds=[\"{}\".format(i-1), \"oi_{}\".format(i), \"oj_{}\".format(i), \"{}\".format(i)], tags=(\"I_{}\".format(i))))\n",
    "\n",
    "oracle_tensor_n = qtn.Tensor(data=ton, inds=[\"{}\".format(N-2), \"oi_{}\".format(N-1), \"oj_{}\".format(N-1)], tags=(\"I_{}\".format(N-1)))\n",
    "oracle_tensors.append(oracle_tensor_n)\n",
    "oracle_tn = qtn.TensorNetwork(oracle_tensors)\n",
    "# oracle_tn.draw(show_inds='all', show_tags = True)"
   ]
  },
  {
   "cell_type": "code",
   "execution_count": 98,
   "metadata": {},
   "outputs": [],
   "source": [
    "oracle_mpo = qtn.MatrixProductOperator.from_TN(oracle_tn,\n",
    "site_tag_id='I_{}',\n",
    "    upper_ind_id='oj_{}',\n",
    "    lower_ind_id='oi_{}',\n",
    "    cyclic=False,\n",
    "    L=N)"
   ]
  },
  {
   "cell_type": "code",
   "execution_count": 99,
   "metadata": {},
   "outputs": [],
   "source": [
    "# Init State\n",
    "\n",
    "init_t0 = np.array([1, 0])\n",
    "\n",
    "init_tensors = []\n",
    "\n",
    "for i in range(0, N):\n",
    "    init_tensors.append(qtn.Tensor(data=init_t0, inds=[\"ii_{}\".format(i)], tags=(\"I_{}\".format(i))))\n",
    "\n",
    "init_tn = qtn.TensorNetwork(init_tensors)\n",
    "# init_tn.draw(show_inds='all', show_tags = True)\n",
    "\n",
    "init_mps = qtn.MatrixProductState.from_TN(init_tn,\n",
    "site_ind_id='ii_{}',\n",
    "site_tag_id='I_{}',\n",
    "    cyclic=False,\n",
    "    L=N)"
   ]
  },
  {
   "cell_type": "code",
   "execution_count": 100,
   "metadata": {},
   "outputs": [],
   "source": [
    "x_matrix = np.zeros((2, 2))\n",
    "x_matrix[0][1] = 1\n",
    "x_matrix[1][0] = 1\n",
    "h_matrix = np.array([[1,1],[1,-1]]) * 1/np.sqrt(2)\n",
    "x_tensors = [qtn.Tensor(data=h_matrix, inds=[\"xi_{}\".format(i), \"xj_{}\".format(i)], tags=(\"I_{}\".format(i))) for i in range(0, N-1)]\n",
    "x_tensors.append(qtn.Tensor(data=x_matrix, inds=[\"xi_{}\".format(N-1), \"xj_{}\".format(N-1)], tags=(\"I_{}\".format(N-1))))\n",
    "x_tn = qtn.TensorNetwork(x_tensors)\n",
    "x_mpo = qtn.MatrixProductOperator.from_TN(x_tn,\n",
    "site_tag_id='I_{}',\n",
    "    upper_ind_id='xj_{}',\n",
    "    lower_ind_id='xi_{}',\n",
    "    cyclic=False,\n",
    "    L=N)"
   ]
  },
  {
   "cell_type": "code",
   "execution_count": 101,
   "metadata": {},
   "outputs": [],
   "source": [
    "out = x_mpo.apply(init_mps, compress=compress)\n",
    "out = oracle_mpo.apply(out, compress=compress)\n",
    "out = hadamard_mpo.apply(out, compress=compress)\n"
   ]
  },
  {
   "cell_type": "code",
   "execution_count": 102,
   "metadata": {},
   "outputs": [],
   "source": [
    "circ = qtn.Circuit(psi0=out)"
   ]
  },
  {
   "cell_type": "code",
   "execution_count": 103,
   "metadata": {},
   "outputs": [
    {
     "name": "stdout",
     "output_type": "stream",
     "text": [
      "True 1111111111111111111111111111111111111111111111111111111111111111\n"
     ]
    }
   ],
   "source": [
    "sampled_s = \"\"\n",
    "is_correct = False\n",
    "for b in circ.sample(100):\n",
    "    if b == allZeros or b == allOnes:\n",
    "        sampled_s = b\n",
    "        is_correct = True\n",
    "        break\n",
    "print(is_correct, sampled_s)"
   ]
  },
  {
   "cell_type": "code",
   "execution_count": 104,
   "metadata": {},
   "outputs": [],
   "source": [
    "\n",
    "\n",
    "# is_correct = False\n",
    "# sampled_s = \"\"\n",
    "# for i in range(0,10):\n",
    "#     index = np.random.choice(len(result), p=result)\n",
    "#     index_s = bin(index)[2:].zfill(N)\n",
    "#     # print(index_s)\n",
    "#     if index_s == s:\n",
    "#         is_correct = True \n",
    "#         sampled_s = index_s\n",
    "#         break\n",
    "\n",
    "# print(is_correct, s, sampled_s)"
   ]
  }
 ],
 "metadata": {
  "kernelspec": {
   "display_name": "Python (tensor)",
   "language": "python",
   "name": "tensor"
  },
  "language_info": {
   "codemirror_mode": {
    "name": "ipython",
    "version": 3
   },
   "file_extension": ".py",
   "mimetype": "text/x-python",
   "name": "python",
   "nbconvert_exporter": "python",
   "pygments_lexer": "ipython3",
   "version": "3.9.6"
  },
  "orig_nbformat": 4,
  "vscode": {
   "interpreter": {
    "hash": "ba71e2a86df84388ebf1fffbfd413d60157924c3f879e3aaaab499c14e81ea7a"
   }
  }
 },
 "nbformat": 4,
 "nbformat_minor": 2
}
